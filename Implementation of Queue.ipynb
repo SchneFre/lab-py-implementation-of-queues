{
 "cells": [
  {
   "cell_type": "markdown",
   "metadata": {},
   "source": [
    "# LAB | Implementation of Queues"
   ]
  },
  {
   "cell_type": "markdown",
   "metadata": {},
   "source": [
    "\n",
    "## Overview"
   ]
  },
  {
   "cell_type": "markdown",
   "metadata": {},
   "source": [
    "\n",
    "This lesson will cover the implementation of queues in Python, focusing on two primary methods: array implementation and linked list implementation. Understanding these implementations will provide a solid foundation for working with queues in various applications.\n"
   ]
  },
  {
   "cell_type": "markdown",
   "metadata": {},
   "source": [
    "\n",
    "## Instructions\n"
   ]
  },
  {
   "cell_type": "markdown",
   "metadata": {},
   "source": [
    "\n",
    "- Complete each section by understanding the concepts and implementing the provided code.\n",
    "- Test your code to ensure it behaves as expected.\n",
    "\n",
    "\n"
   ]
  },
  {
   "cell_type": "markdown",
   "metadata": {},
   "source": [
    "\n",
    "## 1. Array Implementation of Queue\n"
   ]
  },
  {
   "cell_type": "markdown",
   "metadata": {},
   "source": [
    "\n",
    "In this section, we will discuss how to implement a queue using a simple array. While this method is not efficient for practical use, as it can lead to wasted space, it is important for understanding the fundamentals of queue operations.\n"
   ]
  },
  {
   "cell_type": "markdown",
   "metadata": {},
   "source": [
    "\n",
    "### Key Concepts\n",
    "\n",
    "- **Capacity**: The fixed size of the array.\n",
    "- **Size**: The current number of elements in the queue.\n",
    "- **Front**: The index of the first element in the array.\n"
   ]
  },
  {
   "cell_type": "markdown",
   "metadata": {},
   "source": [
    "\n",
    "### Operations\n",
    "\n",
    "- **Enqueue**: Adds new elements to the end of the queue. Checks if there is space before insertion and increments the size.\n",
    "- **Dequeue**: Removes the front element by shifting all remaining elements one position to the left and decrements the size.\n",
    "- **getFront**: Returns the first element of the queue if it’s not empty; returns -1 if the queue is empty.\n",
    "- **Display**: Iterates through the queue from front to size and prints each element.\n"
   ]
  },
  {
   "cell_type": "markdown",
   "metadata": {},
   "source": [
    "### Explanation\n",
    "This cell demonstrates the implementation. Take a moment to check out the code and run the cell to see how it works."
   ]
  },
  {
   "cell_type": "code",
   "execution_count": 1,
   "metadata": {},
   "outputs": [
    {
     "name": "stdout",
     "output_type": "stream",
     "text": [
      "10 20 \n",
      "10\n"
     ]
    }
   ],
   "source": [
    "class ArrayQueue:\n",
    "    def __init__(self, capacity):\n",
    "        self.capacity = capacity\n",
    "        self.queue = [None] * capacity\n",
    "        self.size = 0\n",
    "        self.front = 0\n",
    "\n",
    "    def enQueue(self, item):\n",
    "        if self.size == self.capacity:\n",
    "            print(\"Queue is full\")\n",
    "            return\n",
    "\n",
    "        rear = (self.front + self.size) % self.capacity\n",
    "        self.queue[rear] = item\n",
    "        self.size += 1\n",
    "\n",
    "    def deQueue(self):\n",
    "        if self.size == 0:\n",
    "            print(\"Queue is empty\")\n",
    "            return -1\n",
    "\n",
    "        item = self.queue[self.front]\n",
    "        self.front = (self.front + 1) % self.capacity\n",
    "        self.size -= 1\n",
    "        return item\n",
    "\n",
    "    def getFront(self):\n",
    "        if self.size == 0:\n",
    "            return -1\n",
    "        return self.queue[self.front]\n",
    "\n",
    "    def display(self):\n",
    "        for i in range(self.size):\n",
    "            print(self.queue[(self.front + i) % self.capacity], end=\" \")\n",
    "        print()\n",
    "\n",
    "# Example usage:\n",
    "array_queue = ArrayQueue(5)\n",
    "array_queue.enQueue(10)\n",
    "array_queue.enQueue(20)\n",
    "array_queue.display()  # Output: 10 20\n",
    "print(array_queue.deQueue())  # Output: 10"
   ]
  },
  {
   "cell_type": "code",
   "execution_count": null,
   "metadata": {},
   "outputs": [],
   "source": [
    "\"\"\"\n",
    "- **Capacity**: The fixed size of the array.\n",
    "- **Size**: The current number of elements in the queue.\n",
    "- **Front**: The index of the first element in the array.\n",
    "\n",
    "- **Enqueue**: Adds new elements to the end of the queue. Checks if there is space before insertion and increments the size.\n",
    "- **Dequeue**: Removes the front element by shifting all remaining elements one position to the left and decrements the size.\n",
    "- **getFront**: Returns the first element of the queue if it’s not empty; returns -1 if the queue is empty.\n",
    "- **Display**: Iterates through the queue from front to size and prints each element.\n",
    "\n",
    "\n",
    "\"\"\""
   ]
  },
  {
   "cell_type": "markdown",
   "metadata": {},
   "source": [
    "### Try It Yourself!\n",
    "Modify the implementation below or try writing your own version based on what you've learned above."
   ]
  },
  {
   "cell_type": "code",
   "execution_count": 18,
   "metadata": {},
   "outputs": [
    {
     "name": "stdout",
     "output_type": "stream",
     "text": [
      "getFront: 10\n",
      "10 20\n",
      "10\n"
     ]
    }
   ],
   "source": [
    "from typing import Any\n",
    "\n",
    "class ArrayQueueFS:\n",
    "    def __init__(self, capacity) -> None:\n",
    "        self.size = 0\n",
    "        self.front = 0\n",
    "        self.capacity = capacity\n",
    "        self.queue = []\n",
    "\n",
    "    def enqueue(self, data) -> None:\n",
    "        if self.is_full():\n",
    "            raise IndexError(\"Queue is full - cannot add another element\")\n",
    "        \n",
    "        self.size += 1\n",
    "        self.queue.append(data)\n",
    "\n",
    "    def dequeue(self) -> Any:\n",
    "        last_element = self.queue[0]         \n",
    "        self.queue = self.queue[1:] \n",
    "        self.size -= 1\n",
    "        return last_element\n",
    "\n",
    "    def get_front(self) -> Any:\n",
    "        if self.is_empty():\n",
    "            raise IndexError(\"Queue is emtpy\")\n",
    "        \n",
    "        return self.queue[0] \n",
    "\n",
    "    def is_empty(self) -> bool:\n",
    "        return self.size == 0\n",
    "    \n",
    "    def display(self) -> None:\n",
    "        ret_val =  \" \".join(str(el) for el in self.queue)\n",
    "        print(ret_val)\n",
    "\n",
    "    def is_full(self) -> bool:\n",
    "        if self.capacity is None:\n",
    "            return False\n",
    "        else:\n",
    "            return self.size >= self.capacity\n",
    "\n",
    "array_queue = ArrayQueueFS(5)\n",
    "#array_queue.enqueue(5)\n",
    "array_queue.enqueue(10)\n",
    "array_queue.enqueue(20)\n",
    "print(\"getFront:\" , array_queue.get_front())\n",
    "\n",
    "array_queue.display()  # Output: 10 20\n",
    "print(array_queue.dequeue())  # Output: 10\n",
    "\n"
   ]
  },
  {
   "cell_type": "markdown",
   "metadata": {},
   "source": [
    "\n",
    "## 2. Linked List Implementation of Queue\n"
   ]
  },
  {
   "cell_type": "markdown",
   "metadata": {},
   "source": [
    "\n",
    "In this section, we will implement a queue using a linked list. This method allows for dynamic sizing and avoids wasted space.\n"
   ]
  },
  {
   "cell_type": "markdown",
   "metadata": {},
   "source": [
    "\n",
    "### Key Concepts\n",
    "\n",
    "- **Front**: Points to the first item of the queue.\n",
    "- **Rear**: Points to the last item of the queue.\n"
   ]
  },
  {
   "cell_type": "markdown",
   "metadata": {},
   "source": [
    "\n",
    "### Operations\n",
    "\n",
    "- **enQueue()**: Adds a new node after the rear and moves rear to the next node.\n",
    "- **deQueue()**: Removes the front node and moves front to the next node.\n"
   ]
  },
  {
   "cell_type": "markdown",
   "metadata": {},
   "source": [
    "\n",
    "### Implementation Steps\n",
    "\n",
    "1. Create a class `QNode` with data members `data` and `next`.\n",
    "2. Create a class `Queue` with data members `front` and `rear`.\n"
   ]
  },
  {
   "cell_type": "markdown",
   "metadata": {},
   "source": [
    "### Explanation\n",
    "This cell demonstrates the implementation. Take a moment to check out the code and run the cell to see how it works."
   ]
  },
  {
   "cell_type": "code",
   "execution_count": 19,
   "metadata": {},
   "outputs": [
    {
     "name": "stdout",
     "output_type": "stream",
     "text": [
      "10\n"
     ]
    }
   ],
   "source": [
    "class QNode:\n",
    "    def __init__(self, data):\n",
    "        self.data = data\n",
    "        self.next = None\n",
    "\n",
    "class Queue:\n",
    "    \n",
    "    def __init__(self):\n",
    "        self.front = None\n",
    "        self.rear = None\n",
    "        self._size = 0  \n",
    "\n",
    "    def enQueue(self, data):\n",
    "        \"\"\"Add an element to the rear of the queue\"\"\"\n",
    "        new_node = QNode(data)\n",
    "        \n",
    "        if self.isEmpty():\n",
    "            self.front = self.rear = new_node\n",
    "        else:\n",
    "            self.rear.next = new_node\n",
    "            self.rear = new_node\n",
    "            \n",
    "        self._size += 1\n",
    "    \n",
    "    def deQueue(self):\n",
    "        \"\"\"Remove and return the front element of the queue\"\"\"\n",
    "        if self.isEmpty():\n",
    "            raise IndexError(\"Cannot dequeue from empty queue\")\n",
    "            \n",
    "        temp = self.front\n",
    "        self.front = temp.next\n",
    "        self._size -= 1\n",
    "        \n",
    "        # If queue becomes empty after dequeue\n",
    "        if self.front is None:\n",
    "            self.rear = None\n",
    "            \n",
    "        return temp.data\n",
    "\n",
    "    def getFront(self):\n",
    "            \"\"\"Return the front element without removing it\"\"\"\n",
    "            if self.isEmpty():\n",
    "                raise IndexError(\"Queue is empty\")\n",
    "            return self.front.data\n",
    "        \n",
    "    def getRear(self):\n",
    "        \"\"\"Return the rear element without removing it\"\"\"\n",
    "        if self.isEmpty():\n",
    "            raise IndexError(\"Queue is empty\")\n",
    "        return self.rear.data\n",
    "        \n",
    "    def isEmpty(self):\n",
    "        \"\"\"Check if queue is empty\"\"\"\n",
    "        return self.front is None\n",
    "\n",
    "    def size(self):\n",
    "        \"\"\"Return the current size of queue\"\"\"\n",
    "        return self._size\n",
    "\n",
    "    def display(self):\n",
    "        \"\"\"Display all elements in the queue\"\"\"\n",
    "        if self.isEmpty():\n",
    "            return \"Queue is empty\"\n",
    "            \n",
    "        elements = []\n",
    "        current = self.front\n",
    "        while current:\n",
    "            elements.append(str(current.data))\n",
    "            current = current.next\n",
    "        return \" -> \".join(elements)\n",
    "    \n",
    "# Example usage:\n",
    "linked_list_queue = Queue()\n",
    "linked_list_queue.enQueue(10)\n",
    "linked_list_queue.enQueue(20)\n",
    "print(linked_list_queue.deQueue())  # Output: 10"
   ]
  },
  {
   "cell_type": "markdown",
   "metadata": {},
   "source": [
    "### Try It Yourself!\n",
    "Modify the implementation below or try writing your own version based on what you've learned above."
   ]
  },
  {
   "cell_type": "code",
   "execution_count": 29,
   "metadata": {},
   "outputs": [
    {
     "name": "stdout",
     "output_type": "stream",
     "text": [
      "[5, 6, 8, 8, 8, 8]\n"
     ]
    }
   ],
   "source": [
    "from typing import Any, Optional\n",
    "\n",
    "class Node:\n",
    "    def __init__(self, data: Any) -> None:\n",
    "        self.data = data # this is what our head node stores\n",
    "        self.next = None\n",
    "\n",
    "    def __repr__(self):\n",
    "        return str(self.data)\n",
    "    \n",
    "class Queue:\n",
    "    def __init__(self, capacity=None) -> None:\n",
    "        self.front = None\n",
    "        self.rear = None\n",
    "        self.size = 0\n",
    "        self.capacity = capacity\n",
    "\n",
    "    def peek(self):\n",
    "        if self.is_empty():\n",
    "            raise IndexError(\"The queue is empty. Nothing to see here\")\n",
    "        # has to return the data in the self.front\n",
    "        return self.front.data\n",
    "    \n",
    "    def get_front(self):\n",
    "        if self.is_empty():\n",
    "            raise IndexError(\"The queue is empty. Nothing to see here\")\n",
    "        # has to return the data in the self.front\n",
    "        return self.front.data\n",
    "    \n",
    "    def get_rear(self):\n",
    "        if self.is_empty():\n",
    "            raise IndexError(\"The queue is empty. Nothing to see here\")\n",
    "        # has to return the data in the self.front\n",
    "        return self.rear.data\n",
    "    \n",
    "    def size(self) -> int:\n",
    "        return self.size\n",
    "\n",
    "    def is_empty(self):\n",
    "        return self.front is None\n",
    "    \n",
    "    def display(self) -> None:\n",
    "        lo_elements = []\n",
    "        current_element = self.front\n",
    "        while current_element.next:\n",
    "            lo_elements.append(current_element.data)\n",
    "            current_element = current_element.next\n",
    "        lo_elements.append(current_element.data)\n",
    "        print(lo_elements)\n",
    "\n",
    "    def enqueue(self, data):\n",
    "        if self.is_full():\n",
    "            raise OverflowError(\"The Queue is full, we can't add anything anymore\")\n",
    "        \n",
    "        # create unlinked node\n",
    "        new_node = Node(data)\n",
    "        # if empty\n",
    "        if self.is_empty():\n",
    "            # point to the new node\n",
    "            self.front = new_node\n",
    "            self.rear  = new_node\n",
    "        else:\n",
    "            # link the new node to the end\n",
    "            self.rear.next = new_node\n",
    "            # point the rear to our ne TRUE last node\n",
    "            self.rear = new_node\n",
    "        # increase size of queue\n",
    "        self.size += 1\n",
    "\n",
    "    def dequeue(self) -> Any:\n",
    "        if self.is_empty():\n",
    "            raise IndexError(\"The queue is empty. Nothing to dequeue\") \n",
    "        \n",
    "        data = self.front.data\n",
    "        self.front = self.front.next\n",
    "        if self.front == None:\n",
    "            # if front.next was none, now our self.front is none -> Queue is empty and self.rear has to point to none\n",
    "            self.rear = None \n",
    "\n",
    "        # if slef.front is pointing to an acutual node, self.rear stays the same\n",
    "\n",
    "        self.size -= 1\n",
    "        return data\n",
    "\n",
    "    def is_full(self):\n",
    "        if not self.capacity:\n",
    "            return False \n",
    "        else:\n",
    "            return self.size >= self.capacity\n",
    "        \n",
    "###########################################################################\n",
    "\n",
    "queue = Queue(10)\n",
    "queue.enqueue(5)\n",
    "queue.enqueue(6)\n",
    "queue.enqueue(8)\n",
    "queue.enqueue(8)\n",
    "queue.enqueue(8)\n",
    "queue.enqueue(8)\n",
    "queue.display()"
   ]
  },
  {
   "cell_type": "markdown",
   "metadata": {},
   "source": [
    "\n",
    "\n",
    "## Basic Operations on Queue\n"
   ]
  },
  {
   "cell_type": "markdown",
   "metadata": {},
   "source": [
    "\n",
    "Here are the essential operations associated with queues:\n",
    "\n",
    "- **enQueue()**: Adds an element to the rear of the queue.\n",
    "- **deQueue()**: Removes an element from the front of the queue.\n",
    "- **getFront()**: Retrieves the data element located at the front of the queue without removing it.\n",
    "- **getRear()**: Returns the element at the rear of the queue without removing it.\n",
    "- **display()**: Display all elements in the queue.\n",
    "- **isEmpty()**: Determines whether the queue is currently empty.\n",
    "- **size()**: Provides the total number of elements present in the queue.\n"
   ]
  },
  {
   "cell_type": "markdown",
   "metadata": {},
   "source": [
    "### Operation 1: enQueue()\n",
    "This operation inserts an element at the rear end of the queue.\n",
    "\n",
    "To perform an enqueue operation, follow these steps:\n",
    "\n",
    "1.  we create a new node containing our data. This node will become the new rear of our queue.\n",
    "2. We then handle two distinct scenarios:\n",
    "\n",
    "    -  If the queue is empty (checked via `isEmpty()`), both front and rear pointers need to point to our new node since it's the only element\n",
    "    -  If the queue already has elements, we link our new node to the current rear and update the rear pointer\n",
    "3. Finally, we increment our size counter to keep track of the number of elements.\n"
   ]
  },
  {
   "cell_type": "markdown",
   "metadata": {},
   "source": [
    "### Explanation\n",
    "This cell demonstrates the implementation. Take a moment to check out the code and run the cell to see how it works."
   ]
  },
  {
   "cell_type": "code",
   "execution_count": 30,
   "metadata": {},
   "outputs": [],
   "source": [
    "def enQueue(self, data):\n",
    "    \"\"\"Add an element to the rear of the queue\"\"\"\n",
    "    new_node = QNode(data)\n",
    "    \n",
    "    if self.isEmpty():\n",
    "        self.front = self.rear = new_node\n",
    "    else:\n",
    "        self.rear.next = new_node\n",
    "        self.rear = new_node\n",
    "    self._size += 1"
   ]
  },
  {
   "cell_type": "code",
   "execution_count": 31,
   "metadata": {},
   "outputs": [
    {
     "ename": "AttributeError",
     "evalue": "'Queue' object has no attribute 'enQueue'",
     "output_type": "error",
     "traceback": [
      "\u001b[1;31m---------------------------------------------------------------------------\u001b[0m",
      "\u001b[1;31mAttributeError\u001b[0m                            Traceback (most recent call last)",
      "Cell \u001b[1;32mIn[31], line 4\u001b[0m\n\u001b[0;32m      1\u001b[0m \u001b[38;5;66;03m# Sample Execution\u001b[39;00m\n\u001b[0;32m      3\u001b[0m linked_list_queue \u001b[38;5;241m=\u001b[39m Queue()\n\u001b[1;32m----> 4\u001b[0m \u001b[43mlinked_list_queue\u001b[49m\u001b[38;5;241;43m.\u001b[39;49m\u001b[43menQueue\u001b[49m(\u001b[38;5;241m10\u001b[39m) \u001b[38;5;66;03m# Output: 10 enqueued to queue\u001b[39;00m\n\u001b[0;32m      5\u001b[0m linked_list_queue\u001b[38;5;241m.\u001b[39menQueue(\u001b[38;5;241m20\u001b[39m) \u001b[38;5;66;03m# Output: 20 enqueued to queue\u001b[39;00m\n",
      "\u001b[1;31mAttributeError\u001b[0m: 'Queue' object has no attribute 'enQueue'"
     ]
    }
   ],
   "source": [
    "# Sample Execution\n",
    "\n",
    "linked_list_queue = Queue()\n",
    "linked_list_queue.enQueue(10) # Output: 10 enqueued to queue\n",
    "linked_list_queue.enQueue(20) # Output: 20 enqueued to queue"
   ]
  },
  {
   "cell_type": "markdown",
   "metadata": {},
   "source": [
    "### Try It Yourself!\n",
    "Modify the implementation below or try writing your own version based on what you've learned above."
   ]
  },
  {
   "cell_type": "code",
   "execution_count": null,
   "metadata": {},
   "outputs": [],
   "source": [
    "def enqueue(self, data):\n",
    "        if self.is_full():\n",
    "            raise OverflowError(\"The Queue is full, we can't add anything anymore\")\n",
    "        \n",
    "        # create unlinked node\n",
    "        new_node = Node(data)\n",
    "        # if empty\n",
    "        if self.is_empty():\n",
    "            # point to the new node\n",
    "            self.front = new_node\n",
    "            self.rear  = new_node\n",
    "        else:\n",
    "            # link the new node to the end\n",
    "            self.rear.next = new_node\n",
    "            # point the rear to our ne TRUE last node\n",
    "            self.rear = new_node\n",
    "        # increase size of queue\n",
    "        self.size += 1"
   ]
  },
  {
   "cell_type": "markdown",
   "metadata": {},
   "source": [
    "\n",
    "### Operation 2: deQueue()\n",
    "This operation removes and returns the element located at the front of the queue.\n",
    "\n",
    "To perform a dequeue operation, follow these steps:\n",
    "\n",
    "1. Check if the queue is empty.\n",
    "2. If empty, return an underflow error and exit.\n",
    "3. If not empty, access and store the data at the front pointer.\n",
    "4. Increment the front pointer to point to the next available data element.\n",
    "5. Return success.\n"
   ]
  },
  {
   "cell_type": "markdown",
   "metadata": {},
   "source": [
    "### Explanation\n",
    "This cell demonstrates the implementation. Take a moment to check out the code and run the cell to see how it works."
   ]
  },
  {
   "cell_type": "code",
   "execution_count": 14,
   "metadata": {},
   "outputs": [],
   "source": [
    "def deQueue(self):\n",
    "    \"\"\"Remove and return the front element of the queue\"\"\"\n",
    "    if self.isEmpty():\n",
    "        raise IndexError(\"Cannot dequeue from empty queue\")\n",
    "        \n",
    "    temp = self.front\n",
    "    self.front = temp.next\n",
    "    self._size -= 1\n",
    "    \n",
    "    # If queue becomes empty after dequeue\n",
    "    if self.front is None:\n",
    "        self.rear = None\n",
    "        \n",
    "    return temp.data"
   ]
  },
  {
   "cell_type": "code",
   "execution_count": 23,
   "metadata": {},
   "outputs": [
    {
     "name": "stdout",
     "output_type": "stream",
     "text": [
      "10\n",
      "20\n"
     ]
    }
   ],
   "source": [
    "# Sample Execution\n",
    "\n",
    "print(linked_list_queue.deQueue())  # Output: 10 dequeued from queue\n",
    "print(linked_list_queue.deQueue())  # Output: 20 dequeued from queue\n"
   ]
  },
  {
   "cell_type": "markdown",
   "metadata": {},
   "source": [
    "### Try It Yourself!\n",
    "Modify the implementation below or try writing your own version based on what you've learned above."
   ]
  },
  {
   "cell_type": "code",
   "execution_count": 32,
   "metadata": {},
   "outputs": [],
   "source": [
    " def dequeue(self) -> Any:\n",
    "        if self.is_empty():\n",
    "            raise IndexError(\"The queue is empty. Nothing to dequeue\") \n",
    "        \n",
    "        data = self.front.data\n",
    "        self.front = self.front.next\n",
    "        if self.front == None:\n",
    "            # if front.next was none, now our self.front is none -> Queue is empty and self.rear has to point to none\n",
    "            self.rear = None \n",
    "\n",
    "        # if slef.front is pointing to an acutual node, self.rear stays the same\n",
    "\n",
    "        self.size -= 1\n",
    "        return data\n"
   ]
  },
  {
   "cell_type": "markdown",
   "metadata": {},
   "source": [
    "\n",
    "### Operation 3: getFront()\n",
    "This operation retrieves the element at the front end without removing it.\n",
    "\n",
    "To perform this operation:\n",
    "\n",
    "1. If the queue is empty, return a message indicating that it is empty.\n",
    "2. Otherwise, return the value at the front pointer.\n"
   ]
  },
  {
   "cell_type": "markdown",
   "metadata": {},
   "source": [
    "### Explanation\n",
    "This cell demonstrates the implementation. Take a moment to check out the code and run the cell to see how it works."
   ]
  },
  {
   "cell_type": "code",
   "execution_count": 16,
   "metadata": {},
   "outputs": [],
   "source": [
    "def getFront(self):\n",
    "    \"\"\"Return the front element without removing it\"\"\"\n",
    "    if self.isEmpty():\n",
    "        raise IndexError(\"Queue is empty\")\n",
    "    return self.front.data"
   ]
  },
  {
   "cell_type": "code",
   "execution_count": 24,
   "metadata": {},
   "outputs": [
    {
     "name": "stdout",
     "output_type": "stream",
     "text": [
      "30\n"
     ]
    }
   ],
   "source": [
    "# Sample Execution\n",
    "\n",
    "linked_list_queue.enQueue(30)  # Output: 30 enqueued to queue\n",
    "print(linked_list_queue.getFront())  # Output: 30 (the front of the queue)\n"
   ]
  },
  {
   "cell_type": "markdown",
   "metadata": {},
   "source": [
    "### Try It Yourself!\n",
    "Modify the implementation below or try writing your own version based on what you've learned above."
   ]
  },
  {
   "cell_type": "code",
   "execution_count": 33,
   "metadata": {},
   "outputs": [],
   "source": [
    "def peek(self):\n",
    "        if self.is_empty():\n",
    "            raise IndexError(\"The queue is empty. Nothing to see here\")\n",
    "        # has to return the data in the self.front\n",
    "        return self.front.data"
   ]
  },
  {
   "cell_type": "markdown",
   "metadata": {},
   "source": [
    "\n",
    "### Operation 4: getRear()\n",
    "This operation retrieves the element at the rear end without removing it.\n",
    "\n",
    "To perform this operation:\n",
    "\n",
    "1. If the queue is empty, return a message indicating that it is empty.\n",
    "2. Otherwise, return the value at the rear pointer.\n"
   ]
  },
  {
   "cell_type": "markdown",
   "metadata": {},
   "source": [
    "### Explanation\n",
    "This cell demonstrates the implementation. Take a moment to check out the code and run the cell to see how it works."
   ]
  },
  {
   "cell_type": "code",
   "execution_count": 18,
   "metadata": {},
   "outputs": [],
   "source": [
    "def getRear(self):\n",
    "    \"\"\"Return the rear element without removing it\"\"\"\n",
    "    if self.isEmpty():\n",
    "        raise IndexError(\"Queue is empty\")\n",
    "    return self.rear.data"
   ]
  },
  {
   "cell_type": "code",
   "execution_count": 25,
   "metadata": {},
   "outputs": [
    {
     "name": "stdout",
     "output_type": "stream",
     "text": [
      "30\n"
     ]
    }
   ],
   "source": [
    "# Sample Execution\n",
    "\n",
    "print(linked_list_queue.getRear())  # Output: 30 (the rear element)\n"
   ]
  },
  {
   "cell_type": "markdown",
   "metadata": {},
   "source": [
    "### Try It Yourself!\n",
    "Modify the implementation below or try writing your own version based on what you've learned above."
   ]
  },
  {
   "cell_type": "code",
   "execution_count": null,
   "metadata": {},
   "outputs": [],
   "source": [
    "def get_rear(self):\n",
    "        if self.is_empty():\n",
    "            raise IndexError(\"The queue is empty. Nothing to see here\")\n",
    "        # has to return the data in the self.front\n",
    "        return self.rear.data"
   ]
  },
  {
   "cell_type": "markdown",
   "metadata": {},
   "source": [
    "\n",
    "### Operation 5: isEmpty()\n",
    "This operation checks whether the queue is empty and returns a boolean value.\n"
   ]
  },
  {
   "cell_type": "markdown",
   "metadata": {},
   "source": [
    "### Explanation\n",
    "This cell demonstrates the implementation. Take a moment to check out the code and run the cell to see how it works."
   ]
  },
  {
   "cell_type": "code",
   "execution_count": null,
   "metadata": {},
   "outputs": [],
   "source": [
    "def isEmpty(self):\n",
    "    \"\"\"Check if queue is empty\"\"\"\n",
    "    return self.front is None\n"
   ]
  },
  {
   "cell_type": "code",
   "execution_count": 26,
   "metadata": {},
   "outputs": [
    {
     "name": "stdout",
     "output_type": "stream",
     "text": [
      "False\n"
     ]
    }
   ],
   "source": [
    "# Sample Execution\n",
    "\n",
    "print(linked_list_queue.isEmpty())  # Output: False (since there are elements in the queue)"
   ]
  },
  {
   "cell_type": "markdown",
   "metadata": {},
   "source": [
    "### Try It Yourself!\n",
    "Modify the implementation below or try writing your own version based on what you've learned above."
   ]
  },
  {
   "cell_type": "code",
   "execution_count": null,
   "metadata": {},
   "outputs": [],
   "source": [
    "def is_empty(self):\n",
    "        return self.front is None"
   ]
  },
  {
   "cell_type": "markdown",
   "metadata": {},
   "source": [
    "### Operation 6: display()\n",
    "This operation display all elements in the queue."
   ]
  },
  {
   "cell_type": "markdown",
   "metadata": {},
   "source": [
    "### Explanation\n",
    "This cell demonstrates the implementation. Take a moment to check out the code and run the cell to see how it works."
   ]
  },
  {
   "cell_type": "code",
   "execution_count": null,
   "metadata": {},
   "outputs": [],
   "source": [
    "def display(self):\n",
    "    \"\"\"Display all elements in the queue\"\"\"\n",
    "    if self.isEmpty():\n",
    "        return \"Queue is empty\"\n",
    "        \n",
    "    elements = []\n",
    "    current = self.front\n",
    "    while current:\n",
    "        elements.append(str(current.data))\n",
    "        current = current.next\n",
    "    return \" -> \".join(elements)"
   ]
  },
  {
   "cell_type": "code",
   "execution_count": 27,
   "metadata": {},
   "outputs": [
    {
     "name": "stdout",
     "output_type": "stream",
     "text": [
      "30\n"
     ]
    }
   ],
   "source": [
    "# Sample Execution\n",
    "\n",
    "print(linked_list_queue.display())  # Output: False (if capacity has not been reached)"
   ]
  },
  {
   "cell_type": "markdown",
   "metadata": {},
   "source": [
    "### Try It Yourself!\n",
    "Modify the implementation below or try writing your own version based on what you've learned above."
   ]
  },
  {
   "cell_type": "code",
   "execution_count": 34,
   "metadata": {},
   "outputs": [],
   "source": [
    "    \n",
    "def display(self) -> None:\n",
    "        lo_elements = []\n",
    "        current_element = self.front\n",
    "        while current_element.next:\n",
    "            lo_elements.append(current_element.data)\n",
    "            current_element = current_element.next\n",
    "        lo_elements.append(current_element.data)\n",
    "        print(lo_elements)"
   ]
  },
  {
   "cell_type": "markdown",
   "metadata": {},
   "source": [
    "\n",
    "### Operation 7: size()\n",
    "This operation returns the total number of elements currently in the queue.\n"
   ]
  },
  {
   "cell_type": "markdown",
   "metadata": {},
   "source": [
    "### Explanation\n",
    "This cell demonstrates the implementation. Take a moment to check out the code and run the cell to see how it works."
   ]
  },
  {
   "cell_type": "code",
   "execution_count": null,
   "metadata": {},
   "outputs": [],
   "source": [
    "def size(self):\n",
    "    \"\"\"Return the current size of queue\"\"\"\n",
    "    return self._size"
   ]
  },
  {
   "cell_type": "code",
   "execution_count": 28,
   "metadata": {},
   "outputs": [
    {
     "name": "stdout",
     "output_type": "stream",
     "text": [
      "1\n"
     ]
    }
   ],
   "source": [
    "# Sample Execution\n",
    "\n",
    "print(linked_list_queue.size())   # Output: Current size of the queue (e.g., 1)"
   ]
  },
  {
   "cell_type": "markdown",
   "metadata": {},
   "source": [
    "### Try It Yourself!\n",
    "Modify the implementation below or try writing your own version based on what you've learned above."
   ]
  },
  {
   "cell_type": "code",
   "execution_count": 35,
   "metadata": {},
   "outputs": [],
   "source": [
    "def size(self) -> int:\n",
    "        return self.size"
   ]
  },
  {
   "cell_type": "markdown",
   "metadata": {},
   "source": [
    "\n",
    "## Exercise Completion\n"
   ]
  },
  {
   "cell_type": "markdown",
   "metadata": {},
   "source": [
    "\n",
    "Once you have completed all sections:\n",
    "\n",
    "- Review your implementations.\n",
    "- Ensure your code is well-documented with comments explaining your logic.\n",
    "- Save your notebook for submission or further review.\n",
    "\n",
    "Happy coding! Enjoy practicing Queue implementations in Python!\n"
   ]
  }
 ],
 "metadata": {
  "kernelspec": {
   "display_name": "Python 3",
   "language": "python",
   "name": "python3"
  },
  "language_info": {
   "codemirror_mode": {
    "name": "ipython",
    "version": 3
   },
   "file_extension": ".py",
   "mimetype": "text/x-python",
   "name": "python",
   "nbconvert_exporter": "python",
   "pygments_lexer": "ipython3",
   "version": "3.9.13"
  }
 },
 "nbformat": 4,
 "nbformat_minor": 2
}
